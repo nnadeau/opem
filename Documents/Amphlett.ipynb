{
 "cells": [
  {
   "cell_type": "markdown",
   "metadata": {},
   "source": [
    "#  Amphlett Static Model"
   ]
  },
  {
   "cell_type": "markdown",
   "metadata": {},
   "source": [
    "### Version 0.7"
   ]
  },
  {
   "cell_type": "markdown",
   "metadata": {},
   "source": [
    "<p style=\"text-align:justify;\">\n",
    "Amphlett static model is a parametric model that predicting the performance of a solid polymer electrolyte, proton exchange membrane (PEM) fuel cell. Main concepts in the Amphlett model includes Nernst voltage, PEMFC losses (activation polarization loss, ohmic polarization loss and concentration polarization loss), power and efficiency of fuel cell. This parametric model of PEMFC using a combination of mechanistic and empirical approach. The ideal standard potential (Nernst potential) of an H2/O2 FC is 1.229 V with liquid water product. The actual cell potential is decreased from its reference potential because of irreversible losses.\n",
    "</p>"
   ]
  },
  {
   "cell_type": "markdown",
   "metadata": {},
   "source": [
    "<div style=\"text-align:center;\">\n",
    "   \n",
    "<img src=\"images/Static-Model-Graphic.jpg\">  \n",
    "<p style=\"text-align:center;\">Fig1. Graphical Abstract of Static Models</p>\n",
    "</div>"
   ]
  },
  {
   "cell_type": "markdown",
   "metadata": {},
   "source": [
    "## Nernst Voltage\n",
    "\n",
    "$$E_{Nernst}(V)=1.229-(8.5\\times10^{-4})(T-298.15)+(4.308\\times10^{-5})(T)[\\ln(P_{H2})+0.5ln(P_{O2})]$$\n"
   ]
  },
  {
   "cell_type": "code",
   "execution_count": 1,
   "metadata": {},
   "outputs": [
    {
     "data": {
      "text/plain": [
       "1.19075"
      ]
     },
     "execution_count": 1,
     "metadata": {},
     "output_type": "execute_result"
    }
   ],
   "source": [
    "from opem.Static.Amphlett import *\n",
    "Enernst=Enernst_Calc(T=343.15,PH2=1,PO2=1)\n",
    "Enernst"
   ]
  },
  {
   "cell_type": "markdown",
   "metadata": {},
   "source": [
    "* Notice : from opem.Amphlett in version (0.3>)"
   ]
  },
  {
   "cell_type": "markdown",
   "metadata": {},
   "source": [
    "## PEM Losses Model"
   ]
  },
  {
   "cell_type": "markdown",
   "metadata": {},
   "source": [
    "### Activation"
   ]
  },
  {
   "cell_type": "markdown",
   "metadata": {},
   "source": [
    "$$\\eta_{activation}=\\xi_{1}+\\xi_{2}T+\\xi_{3}T[ln(C_{O_{2}})]+\\xi_{4}T[ln(i)]$$"
   ]
  },
  {
   "cell_type": "markdown",
   "metadata": {},
   "source": [
    "$$\\xi_{1}=-0.948$$"
   ]
  },
  {
   "cell_type": "markdown",
   "metadata": {},
   "source": [
    "$$\\xi_{2}=0.00286+0.0002\\times ln(A)+(4.3\\times10^{-5})[ln(C_{H_{2}})]$$"
   ]
  },
  {
   "cell_type": "markdown",
   "metadata": {},
   "source": [
    "$$\\xi_{3}=7.6\\times10^{-5}$$"
   ]
  },
  {
   "cell_type": "markdown",
   "metadata": {},
   "source": [
    "$$\\xi_{4}=-1.93\\times10^{-4}$$"
   ]
  },
  {
   "cell_type": "markdown",
   "metadata": {},
   "source": [
    "$$C_{H_{2}}=\\frac{P_{H_2}}{1.09\\times10^{6}\\times exp(\\frac{77}{T})}$$"
   ]
  },
  {
   "cell_type": "markdown",
   "metadata": {},
   "source": [
    "$$C_{O_{2}}=\\frac{P_{O_2}}{5.08\\times10^{6}\\times exp(\\frac{-498}{T})}$$"
   ]
  },
  {
   "cell_type": "code",
   "execution_count": 2,
   "metadata": {},
   "outputs": [
    {
     "name": "stdout",
     "output_type": "stream",
     "text": [
      "XI1=-0.948\n",
      "XI3=7.6e-05\n",
      "XI4=-0.000193\n"
     ]
    }
   ],
   "source": [
    "print(\"XI1=\"+str(xi1))\n",
    "print(\"XI3=\"+str(xi3))\n",
    "print(\"XI4=\"+str(xi4))"
   ]
  },
  {
   "cell_type": "code",
   "execution_count": 3,
   "metadata": {},
   "outputs": [
    {
     "name": "stdout",
     "output_type": "stream",
     "text": [
      "XI2=0.0030373688787134006\n",
      "CO2=8.402541445801334e-07\n",
      "CH2=7.330294784824117e-07\n"
     ]
    }
   ],
   "source": [
    "CO2=CO2_Calc(PO2=1,T=343.15)\n",
    "CH2=CH2_Calc(PH2=1,T=343.15)\n",
    "XI2=Xi2_Calc(A=50.6,PH2=1,T=343.15)\n",
    "print(\"XI2=\"+str(XI2))\n",
    "print(\"CO2=\"+str(CO2))\n",
    "print(\"CH2=\"+str(CH2))"
   ]
  },
  {
   "cell_type": "code",
   "execution_count": 4,
   "metadata": {},
   "outputs": [
    {
     "data": {
      "text/plain": [
       "0.3164719546471556"
      ]
     },
     "execution_count": 4,
     "metadata": {},
     "output_type": "execute_result"
    }
   ],
   "source": [
    "Eta_Act=Eta_Act_Calc(T=343.15,PO2=1 , PH2=1, i=2, A=50.6)\n",
    "Eta_Act"
   ]
  },
  {
   "cell_type": "markdown",
   "metadata": {},
   "source": [
    "### Ohmic"
   ]
  },
  {
   "cell_type": "markdown",
   "metadata": {},
   "source": [
    "$$\\eta_{ohmic}=i(R_{electronic}+R_{Proton})$$"
   ]
  },
  {
   "cell_type": "markdown",
   "metadata": {},
   "source": [
    "$$R_{Proton}=\\frac{\\rho_m\\times I}{A}$$"
   ]
  },
  {
   "cell_type": "markdown",
   "metadata": {},
   "source": [
    "$$\\rho_m=\\frac{181.6[1+0.03(\\frac{i}{A})+0.062(\\frac{T}{303})^2(\\frac{i}{A})^{2.5}]}{[\\lambda-0.634-3(\\frac{i}{A})]exp[4.18(\\frac{T-303}{T})]}$$"
   ]
  },
  {
   "cell_type": "markdown",
   "metadata": {},
   "source": [
    "* `Relectronic` Should be approximately constant over the relatively narrow\n",
    "temperature range of PEM fuel cell operation.\n",
    "Therefore, the parameter Relectronic can be taken as a constant, but\n",
    "is generally difficult to predict and, therefore, is initially an unknown."
   ]
  },
  {
   "cell_type": "code",
   "execution_count": 5,
   "metadata": {},
   "outputs": [
    {
     "data": {
      "text/plain": [
       "5.011385192458396"
      ]
     },
     "execution_count": 5,
     "metadata": {},
     "output_type": "execute_result"
    }
   ],
   "source": [
    "Rho_Calc(i=2, A=50.6, T=343.15, lambda_param=23)"
   ]
  },
  {
   "cell_type": "code",
   "execution_count": 6,
   "metadata": {},
   "outputs": [
    {
     "data": {
      "text/plain": [
       "0.0035257966966703337"
      ]
     },
     "execution_count": 6,
     "metadata": {},
     "output_type": "execute_result"
    }
   ],
   "source": [
    "Eta_Ohmic=Eta_Ohmic_Calc(i=2, l=0.0178, A=50.6, T=343.15, lambda_param=23, R_elec=0)\n",
    "Eta_Ohmic"
   ]
  },
  {
   "cell_type": "markdown",
   "metadata": {},
   "source": [
    "### Concentration"
   ]
  },
  {
   "cell_type": "markdown",
   "metadata": {},
   "source": [
    "$$\\eta_{Concentration}=-B\\times ln(1-\\frac{J}{J_{Max}})$$"
   ]
  },
  {
   "cell_type": "markdown",
   "metadata": {},
   "source": [
    "$$J=\\frac{i}{A}$$"
   ]
  },
  {
   "cell_type": "markdown",
   "metadata": {},
   "source": [
    "$$J_{Max}=\\frac{i_L}{A}$$"
   ]
  },
  {
   "cell_type": "code",
   "execution_count": 7,
   "metadata": {},
   "outputs": [
    {
     "data": {
      "text/plain": [
       "0.0004272617031588504"
      ]
     },
     "execution_count": 7,
     "metadata": {},
     "output_type": "execute_result"
    }
   ],
   "source": [
    "Eta_Conc=Eta_Conc_Calc(i=2, A=50.6, B=0.016, JMax=1.5)\n",
    "Eta_Conc"
   ]
  },
  {
   "cell_type": "markdown",
   "metadata": {},
   "source": [
    "### VCell & VStack"
   ]
  },
  {
   "cell_type": "markdown",
   "metadata": {},
   "source": [
    "$$Loss=\\eta_{Activation}+\\eta_{Ohmic}+\\eta_{Concentration}$$"
   ]
  },
  {
   "cell_type": "markdown",
   "metadata": {},
   "source": [
    "$$V_{cell}=E_{Nernst}-Loss$$"
   ]
  },
  {
   "cell_type": "markdown",
   "metadata": {},
   "source": [
    "$$V_{Stack}=N\\times V_{cell}$$"
   ]
  },
  {
   "cell_type": "code",
   "execution_count": 8,
   "metadata": {},
   "outputs": [
    {
     "data": {
      "text/plain": [
       "0.32042501304698484"
      ]
     },
     "execution_count": 8,
     "metadata": {},
     "output_type": "execute_result"
    }
   ],
   "source": [
    "Loss=Loss_Calc(Eta_Act=Eta_Act,Eta_Conc=Eta_Conc,Eta_Ohmic=Eta_Ohmic)\n",
    "Loss"
   ]
  },
  {
   "cell_type": "code",
   "execution_count": 9,
   "metadata": {},
   "outputs": [
    {
     "data": {
      "text/plain": [
       "0.8703249869530152"
      ]
     },
     "execution_count": 9,
     "metadata": {},
     "output_type": "execute_result"
    }
   ],
   "source": [
    "Vcell=Vcell_Calc(Enernst=Enernst,Loss=Loss)\n",
    "Vcell"
   ]
  },
  {
   "cell_type": "code",
   "execution_count": 10,
   "metadata": {},
   "outputs": [
    {
     "data": {
      "text/plain": [
       "0.8703249869530152"
      ]
     },
     "execution_count": 10,
     "metadata": {},
     "output_type": "execute_result"
    }
   ],
   "source": [
    "VStack=VStack_Calc(Vcell=Vcell,N=1)\n",
    "VStack"
   ]
  },
  {
   "cell_type": "markdown",
   "metadata": {},
   "source": [
    "## Power Of PEMFC"
   ]
  },
  {
   "cell_type": "markdown",
   "metadata": {},
   "source": [
    "$$P=V_{cell}\\times i$$"
   ]
  },
  {
   "cell_type": "markdown",
   "metadata": {},
   "source": [
    "$$P_{Stack}=N\\times P$$"
   ]
  },
  {
   "cell_type": "code",
   "execution_count": 11,
   "metadata": {},
   "outputs": [
    {
     "data": {
      "text/plain": [
       "1.7406499739060304"
      ]
     },
     "execution_count": 11,
     "metadata": {},
     "output_type": "execute_result"
    }
   ],
   "source": [
    "Power=Power_Calc(Vcell=Vcell,i=2)\n",
    "Power"
   ]
  },
  {
   "cell_type": "code",
   "execution_count": 12,
   "metadata": {},
   "outputs": [
    {
     "data": {
      "text/plain": [
       "3.4812999478120608"
      ]
     },
     "execution_count": 12,
     "metadata": {},
     "output_type": "execute_result"
    }
   ],
   "source": [
    "PowerStack_Calc(Power=Power,N=2)"
   ]
  },
  {
   "cell_type": "markdown",
   "metadata": {},
   "source": [
    "## Efficiency of PEMFC"
   ]
  },
  {
   "cell_type": "markdown",
   "metadata": {},
   "source": [
    "$$\\eta=\\frac{\\mu_F\\times V_{cell}}{HHV}$$"
   ]
  },
  {
   "cell_type": "markdown",
   "metadata": {},
   "source": [
    "uF"
   ]
  },
  {
   "cell_type": "code",
   "execution_count": 13,
   "metadata": {},
   "outputs": [
    {
     "data": {
      "text/plain": [
       "1.482"
      ]
     },
     "execution_count": 13,
     "metadata": {},
     "output_type": "execute_result"
    }
   ],
   "source": [
    "HHV"
   ]
  },
  {
   "cell_type": "code",
   "execution_count": 14,
   "metadata": {},
   "outputs": [
    {
     "data": {
      "text/plain": [
       "0.5579006326621893"
      ]
     },
     "execution_count": 14,
     "metadata": {},
     "output_type": "execute_result"
    }
   ],
   "source": [
    "Efficiency_Calc(Vcell=Vcell)"
   ]
  },
  {
   "cell_type": "markdown",
   "metadata": {},
   "source": [
    "## Full Run"
   ]
  },
  {
   "cell_type": "markdown",
   "metadata": {},
   "source": [
    "* Run from `i`=0 to `i`=2 with `step`=0.1"
   ]
  },
  {
   "cell_type": "code",
   "execution_count": 15,
   "metadata": {
    "scrolled": true
   },
   "outputs": [],
   "source": [
    "Test_Vector={\"T\":343.15,\"PH2\":1,\"PO2\":1,\"i-start\":0,\"i-stop\":2,\"i-step\":0.1,\"A\":50.6,\"l\":0.0178,\"lambda\":23,\"N\":1,\"R\":0,\"JMax\":1.5,\"B\":0.016,\"Name\":\"Test\"}"
   ]
  },
  {
   "cell_type": "markdown",
   "metadata": {},
   "source": [
    "* Notice : \"Name\", new in version 0.5"
   ]
  },
  {
   "cell_type": "code",
   "execution_count": 16,
   "metadata": {},
   "outputs": [
    {
     "data": {
      "text/plain": [
       "{'I': [0,\n",
       "  0.1,\n",
       "  0.2,\n",
       "  0.3,\n",
       "  0.4,\n",
       "  0.5,\n",
       "  0.6,\n",
       "  0.7,\n",
       "  0.8,\n",
       "  0.9,\n",
       "  1.0,\n",
       "  1.1,\n",
       "  1.2,\n",
       "  1.3,\n",
       "  1.4,\n",
       "  1.5,\n",
       "  1.6,\n",
       "  1.7,\n",
       "  1.8,\n",
       "  1.9],\n",
       " 'P': [0.0,\n",
       "  0.1072482958282681,\n",
       "  0.2052761611172405,\n",
       "  0.29979933150428645,\n",
       "  0.3920327165753869,\n",
       "  0.4825532947945601,\n",
       "  0.5717008813767012,\n",
       "  0.6597000002134213,\n",
       "  0.7467102170794577,\n",
       "  0.8328508282477683,\n",
       "  0.9182144215535232,\n",
       "  1.0028749536944233,\n",
       "  1.0868928646385256,\n",
       "  1.1703184750174012,\n",
       "  1.2531943319175447,\n",
       "  1.3355568810485454,\n",
       "  1.417437691058521,\n",
       "  1.498864370613474,\n",
       "  1.5798612689779254,\n",
       "  1.6604500204546115],\n",
       " 'V': [1.19075,\n",
       "  1.072482958282681,\n",
       "  1.0263808055862025,\n",
       "  0.9993311050142881,\n",
       "  0.9800817914384672,\n",
       "  0.9651065895891202,\n",
       "  0.9528348022945019,\n",
       "  0.9424285717334592,\n",
       "  0.933387771349322,\n",
       "  0.925389809164187,\n",
       "  0.9182144215535232,\n",
       "  0.9117045033585666,\n",
       "  0.905744053865438,\n",
       "  0.9002449807826162,\n",
       "  0.895138808512532,\n",
       "  0.8903712540323636,\n",
       "  0.8858985569115755,\n",
       "  0.8816849238902789,\n",
       "  0.8777007049877363,\n",
       "  0.873921063397164]}"
      ]
     },
     "execution_count": 16,
     "metadata": {},
     "output_type": "execute_result"
    }
   ],
   "source": [
    "Static_Analysis(InputMethod=Test_Vector,TestMode=True,PrintMode=False,ReportMode=True)"
   ]
  },
  {
   "cell_type": "code",
   "execution_count": 17,
   "metadata": {},
   "outputs": [
    {
     "name": "stdout",
     "output_type": "stream",
     "text": [
      "###########\n",
      "Amphlett-Model Simulation\n",
      "###########\n",
      "Analyzing . . .\n",
      "I : 0\n",
      "Enernst : 1.19075 V\n",
      "Eta Activation : 0 V\n",
      "Eta Concentration : 0 V\n",
      "Eta Ohmic : 0 V\n",
      "Loss : 0 V\n",
      "PEM Efficiency : 0.763301282051282 \n",
      "Power : 0.0 W\n",
      "Power-Stack : 0.0 W\n",
      "VStack : 1.19075 V\n",
      "Vcell : 1.19075 V\n",
      "###########\n",
      "I : 0.1\n",
      "Enernst : 1.19075 V\n",
      "Eta Activation : 0.11807074742083559 V\n",
      "Eta Concentration : 2.109426805213159e-05 V\n",
      "Eta Ohmic : 0.00017520002843124318 V\n",
      "Loss : 0.11826704171731897 V\n",
      "PEM Efficiency : 0.6874890758222313 \n",
      "Power : 0.1072482958282681 W\n",
      "Power-Stack : 0.1072482958282681 W\n",
      "VStack : 1.072482958282681 V\n",
      "Vcell : 1.072482958282681 V\n",
      "###########\n",
      "I : 0.2\n",
      "Enernst : 1.19075 V\n",
      "Eta Activation : 0.1639764642376006 V\n",
      "Eta Concentration : 4.221638333089875e-05 V\n",
      "Eta Ohmic : 0.0003505137928660484 V\n",
      "Loss : 0.16436919441379755 V\n",
      "PEM Efficiency : 0.6579364138373093 \n",
      "Power : 0.2052761611172405 W\n",
      "Power-Stack : 0.2052761611172405 W\n",
      "VStack : 1.0263808055862025 V\n",
      "Vcell : 1.0263808055862025 V\n",
      "###########\n",
      "I : 0.3\n",
      "Enernst : 1.19075 V\n",
      "Eta Activation : 0.1908295871441327 V\n",
      "Eta Concentration : 6.336641945755048e-05 V\n",
      "Eta Ohmic : 0.0005259414221215358 V\n",
      "Loss : 0.1914188949857118 V\n",
      "PEM Efficiency : 0.6405968621886462 \n",
      "Power : 0.29979933150428645 W\n",
      "Power-Stack : 0.29979933150428645 W\n",
      "VStack : 0.9993311050142881 V\n",
      "Vcell : 0.9993311050142881 V\n",
      "###########\n",
      "I : 0.4\n",
      "Enernst : 1.19075 V\n",
      "Eta Activation : 0.20988218105436562 V\n",
      "Eta Concentration : 8.454445034568427e-05 V\n",
      "Eta Ohmic : 0.0007014830568214833 V\n",
      "Loss : 0.21066820856153282 V\n",
      "PEM Efficiency : 0.628257558614402 \n",
      "Power : 0.3920327165753869 W\n",
      "Power-Stack : 0.3920327165753869 W\n",
      "VStack : 0.9800817914384672 V\n",
      "Vcell : 0.9800817914384672 V\n",
      "###########\n",
      "I : 0.5\n",
      "Enernst : 1.19075 V\n",
      "Eta Activation : 0.22466052101362555 V\n",
      "Eta Concentration : 0.00010575055020278165 V\n",
      "Eta Ohmic : 0.0008771388470514419 V\n",
      "Loss : 0.22564341041087976 V\n",
      "PEM Efficiency : 0.618658070249436 \n",
      "Power : 0.4825532947945601 W\n",
      "Power-Stack : 0.4825532947945601 W\n",
      "VStack : 0.9651065895891202 V\n",
      "Vcell : 0.9651065895891202 V\n",
      "###########\n",
      "I : 0.6\n",
      "Enernst : 1.19075 V\n",
      "Eta Activation : 0.23673530396089773 V\n",
      "Eta Concentration : 0.00012698479353178086 V\n",
      "Eta Ohmic : 0.0010529089510685316 V\n",
      "Loss : 0.23791519770549804 V\n",
      "PEM Efficiency : 0.610791539932373 \n",
      "Power : 0.5717008813767012 W\n",
      "Power-Stack : 0.5717008813767012 W\n",
      "VStack : 0.9528348022945019 V\n",
      "Vcell : 0.9528348022945019 V\n",
      "###########\n",
      "I : 0.7\n",
      "Enernst : 1.19075 V\n",
      "Eta Activation : 0.2469443874769634 V\n",
      "Eta Concentration : 0.000148247255132642 V\n",
      "Eta Ohmic : 0.001228793534444728 V\n",
      "Loss : 0.24832142826654077 V\n",
      "PEM Efficiency : 0.60412087931632 \n",
      "Power : 0.6597000002134213 W\n",
      "Power-Stack : 0.6597000002134213 W\n",
      "VStack : 0.9424285717334592 V\n",
      "Vcell : 0.9424285717334592 V\n",
      "###########\n",
      "I : 0.8\n",
      "Enernst : 1.19075 V\n",
      "Eta Activation : 0.25578789787113065 V\n",
      "Eta Concentration : 0.00016953801010392253 V\n",
      "Eta Ohmic : 0.0014047927694433354 V\n",
      "Loss : 0.2573622286506779 V\n",
      "PEM Efficiency : 0.5983254944546936 \n",
      "Power : 0.7467102170794577 W\n",
      "Power-Stack : 0.7467102170794577 W\n",
      "VStack : 0.933387771349322 V\n",
      "Vcell : 0.933387771349322 V\n",
      "###########\n",
      "I : 0.9\n",
      "Enernst : 1.19075 V\n",
      "Eta Activation : 0.26358842686742984 V\n",
      "Eta Concentration : 0.00019085713384438152 V\n",
      "Eta Ohmic : 0.0015809068345387157 V\n",
      "Loss : 0.2653601908358129 V\n",
      "PEM Efficiency : 0.5931985956180685 \n",
      "Power : 0.8328508282477683 W\n",
      "Power-Stack : 0.8328508282477683 W\n",
      "VStack : 0.925389809164187 V\n",
      "Vcell : 0.925389809164187 V\n",
      "###########\n",
      "I : 1.0\n",
      "Enernst : 1.19075 V\n",
      "Eta Activation : 0.2705662378303906 V\n",
      "Eta Concentration : 0.00021220470205456714 V\n",
      "Eta Ohmic : 0.0017571359140316743 V\n",
      "Loss : 0.2725355784464768 V\n",
      "PEM Efficiency : 0.5885989881753353 \n",
      "Power : 0.9182144215535232 W\n",
      "Power-Stack : 0.9182144215535232 W\n",
      "VStack : 0.9182144215535232 V\n",
      "Vcell : 0.9182144215535232 V\n",
      "###########\n",
      "I : 1.1\n",
      "Enernst : 1.19075 V\n",
      "Eta Activation : 0.27687843565296244 V\n",
      "Eta Concentration : 0.0002335807907384422 V\n",
      "Eta Ohmic : 0.001933480197732536 V\n",
      "Loss : 0.2790454966414334 V\n",
      "PEM Efficiency : 0.5844259636913888 \n",
      "Power : 1.0028749536944233 W\n",
      "Power-Stack : 1.0028749536944233 W\n",
      "VStack : 0.9117045033585666 V\n",
      "Vcell : 0.9117045033585666 V\n",
      "###########\n",
      "I : 1.2\n",
      "Enernst : 1.19075 V\n",
      "Eta Activation : 0.28264102077766273 V\n",
      "Eta Concentration : 0.00025498547620500224 V\n",
      "Eta Ohmic : 0.002109939880694226 V\n",
      "Loss : 0.285005946134562 V\n",
      "PEM Efficiency : 0.5806051627342551 \n",
      "Power : 1.0868928646385256 W\n",
      "Power-Stack : 1.0868928646385256 W\n",
      "VStack : 0.905744053865438 V\n",
      "Vcell : 0.905744053865438 V\n",
      "###########\n",
      "I : 1.3\n",
      "Enernst : 1.19075 V\n",
      "Eta Activation : 0.28794208521933035 V\n",
      "Eta Concentration : 0.0002764188350699048 V\n",
      "Eta Ohmic : 0.002286515162983545 V\n",
      "Loss : 0.2905050192173838 V\n",
      "PEM Efficiency : 0.5770801158862924 \n",
      "Power : 1.1703184750174012 W\n",
      "Power-Stack : 1.1703184750174012 W\n",
      "VStack : 0.9002449807826162 V\n",
      "Vcell : 0.9002449807826162 V\n",
      "###########\n",
      "I : 1.4\n",
      "Enernst : 1.19075 V\n",
      "Eta Activation : 0.29285010429372843 V\n",
      "Eta Concentration : 0.00029788094425712723 V\n",
      "Eta Ohmic : 0.0024632062494824017 V\n",
      "Loss : 0.29561119148746795 V\n",
      "PEM Efficiency : 0.5738069285336743 \n",
      "Power : 1.2531943319175447 W\n",
      "Power-Stack : 1.2531943319175447 W\n",
      "VStack : 0.895138808512532 V\n",
      "Vcell : 0.895138808512532 V\n",
      "###########\n",
      "I : 1.5\n",
      "Enernst : 1.19075 V\n",
      "Eta Activation : 0.29741936073692266 V\n",
      "Eta Concentration : 0.00031937188100060893 V\n",
      "Eta Ohmic : 0.002640013349713048 V\n",
      "Loss : 0.3003787459676363 V\n",
      "PEM Efficiency : 0.5707508038668997 \n",
      "Power : 1.3355568810485454 W\n",
      "Power-Stack : 1.3355568810485454 W\n",
      "VStack : 0.8903712540323636 V\n",
      "Vcell : 0.8903712540323636 V\n",
      "###########\n",
      "I : 1.6\n",
      "Enernst : 1.19075 V\n",
      "Eta Activation : 0.3016936146878957 V\n",
      "Eta Concentration : 0.0003408917228459314 V\n",
      "Eta Ohmic : 0.0028169366776829123 V\n",
      "Loss : 0.3048514430884245 V\n",
      "PEM Efficiency : 0.567883690327933 \n",
      "Power : 1.417437691058521 W\n",
      "Power-Stack : 1.417437691058521 W\n",
      "VStack : 0.8858985569115755 V\n",
      "Vcell : 0.8858985569115755 V\n",
      "###########\n",
      "I : 1.7\n",
      "Enernst : 1.19075 V\n",
      "Eta Activation : 0.3057086591103234 V\n",
      "Eta Concentration : 0.00036244054765199196 V\n",
      "Eta Ohmic : 0.0029939764517456784 V\n",
      "Loss : 0.3090650761097211 V\n",
      "PEM Efficiency : 0.5651826435194095 \n",
      "Power : 1.498864370613474 W\n",
      "Power-Stack : 1.498864370613474 W\n",
      "VStack : 0.8816849238902789 V\n",
      "Vcell : 0.8816849238902789 V\n",
      "###########\n",
      "I : 1.8\n",
      "Enernst : 1.19075 V\n",
      "Eta Activation : 0.30949414368419487 V\n",
      "Eta Concentration : 0.00038401843359268825 V\n",
      "Eta Ohmic : 0.0031711328944759895 V\n",
      "Loss : 0.3130492950122636 V\n",
      "PEM Efficiency : 0.5626286570434207 \n",
      "Power : 1.5798612689779254 W\n",
      "Power-Stack : 1.5798612689779254 W\n",
      "VStack : 0.8777007049877363 V\n",
      "Vcell : 0.8777007049877363 V\n",
      "###########\n",
      "I : 1.9\n",
      "Enernst : 1.19075 V\n",
      "Eta Activation : 0.3130749049111216 V\n",
      "Eta Concentration : 0.00040562545915863245 V\n",
      "Eta Ohmic : 0.003348406232555746 V\n",
      "Loss : 0.31682893660283595 V\n",
      "PEM Efficiency : 0.5602058098699769 \n",
      "Power : 1.6604500204546115 W\n",
      "Power-Stack : 1.6604500204546115 W\n",
      "VStack : 0.873921063397164 V\n",
      "Vcell : 0.873921063397164 V\n",
      "###########\n",
      "Done!\n"
     ]
    }
   ],
   "source": [
    "Data=Static_Analysis(InputMethod=Test_Vector,TestMode=True,PrintMode=True,ReportMode=True)"
   ]
  },
  {
   "cell_type": "markdown",
   "metadata": {},
   "source": [
    "* Notice : \"PrintMode\" & \"ReportMode\" , new in version 0.5"
   ]
  },
  {
   "cell_type": "markdown",
   "metadata": {},
   "source": [
    "## Parameters"
   ]
  },
  {
   "cell_type": "markdown",
   "metadata": {},
   "source": [
    "Inputs, Constants & Middle Values\n",
    "1. User : User Input\n",
    "2. System : Simulator Calculation (Middle Value)"
   ]
  },
  {
   "cell_type": "markdown",
   "metadata": {},
   "source": [
    "<table style=\"text-align:center;\">\n",
    "    <tr>\n",
    "        <td>$$Parameter$$</td>\n",
    "        <td>$$Description$$</td>\n",
    "        <td>$$Unit$$</td>\n",
    "        <td>$$Value$$</td>\n",
    "    </tr> \n",
    "    <tr>\n",
    "        <td>$$P_{H2}$$</td>\n",
    "        <td style=\"text-align:center;\">Partial Pressure</td>\n",
    "        <td>$$atm$$</td>\n",
    "        <td>$$User$$</td>\n",
    "    </tr>\n",
    "    <tr>\n",
    "        <td>$$P_{O2}$$</td>\n",
    "        <td style=\"text-align:center;\">Partial Pressure</td>\n",
    "        <td>$$atm$$</td>\n",
    "        <td>$$User$$</td>\n",
    "        \n",
    "    </tr>\n",
    "    <tr>\n",
    "        <td>$$T$$</td>\n",
    "        <td style=\"text-align:center;\">Cell Operation Temperature</td>\n",
    "        <td>$$K$$</td>\n",
    "        <td>$$User$$</td>\n",
    "    </tr>\n",
    "    <tr>\n",
    "        <td>$$l$$</td>\n",
    "        <td style=\"text-align:center;\">Membrane Thickness</td>\n",
    "        <td>$$cm$$</td>\n",
    "        <td>$$User$$</td>\n",
    "    </tr>\n",
    "    <tr>\n",
    "        <td>$$A$$</td>\n",
    "        <td style=\"text-align:center;\">Active area</td>\n",
    "        <td>$$cm^2$$</td>\n",
    "        <td>$$User$$</td>\n",
    "    </tr>\n",
    "         <tr>\n",
    "        <td>$$\\lambda$$</td>\n",
    "        <td style=\"text-align:center;\">An adjustable parameter with a possible minimum value of 14 and a maximum value of 23</td>\n",
    "        <td>$$--$$</td>\n",
    "        <td>$$User$$</td>\n",
    "    </tr>\n",
    "     <tr>\n",
    "        <td>$$J_{Max}$$</td>\n",
    "        <td style=\"text-align:center;\">Maximum current density of the cell</td>\n",
    "        <td>$$Acm^{-2}$$</td>\n",
    "        <td>$$User$$</td>\n",
    "    </tr>\n",
    "    \n",
    "          <tr>\n",
    "        <td>$$B$$</td>\n",
    "        <td style=\"text-align:center;\">An empirical constant depending on the cell and its operation state</td>\n",
    "        <td>$$V$$</td>\n",
    "        <td>$$User$$</td>\n",
    "    </tr>\n",
    "    \n",
    "              <tr>\n",
    "        <td>$$N$$</td>\n",
    "        <td style=\"text-align:center;\">Number of single cells</td>\n",
    "        <td>$$--$$</td>\n",
    "        <td>$$User$$</td>\n",
    "    </tr>\n",
    "    \n",
    "     <tr>\n",
    "        <td>$$R_{electronic}$$</td>\n",
    "        <td style=\"text-align:center;\">R-Electronic</td>\n",
    "        <td>$$\\Omega$$</td>\n",
    "        <td>$$User$$</td>\n",
    "    </tr>\n",
    "    \n",
    "    \n",
    "     <tr>\n",
    "        <td>$$i_{start}$$</td>\n",
    "        <td style=\"text-align:center;\">Cell operating current start point</td>\n",
    "        <td>$$A$$</td>\n",
    "        <td>$$User$$</td>\n",
    "    </tr>\n",
    "    \n",
    "    <tr>\n",
    "        <td>$$i_{step}$$</td>\n",
    "        <td style=\"text-align:center;\">Cell operating current step</td>\n",
    "        <td>$$A$$</td>\n",
    "        <td>$$User$$</td>\n",
    "    </tr>\n",
    "    \n",
    "    <tr>\n",
    "        <td>$$i_{stop}$$</td>\n",
    "        <td style=\"text-align:center;\">Cell operating current end point</td>\n",
    "        <td>$$A$$</td>\n",
    "        <td>$$User$$</td>\n",
    "    </tr>\n",
    "    \n",
    "    <tr>\n",
    "        <td>$$\\rho$$</td>\n",
    "        <td style=\"text-align:center;\">Membrane Specific Resistivity</td>\n",
    "        <td>$$\\Omega cm$$</td>\n",
    "        <td>$$System$$</td>\n",
    "    </tr>\n",
    "\n",
    "     <tr>\n",
    "        <td>$$J$$</td>\n",
    "        <td style=\"text-align:center;\">Actual current density of the cell </td>\n",
    "        <td>$$Acm^{-2}$$</td>\n",
    "        <td>$$System$$</td>\n",
    "    </tr> \n",
    "    \n",
    "    <tr>\n",
    "        <td>$$C_{O_2}$$</td>\n",
    "        <td style=\"text-align:center;\">Concentration of oxygen in the catalytic interface of the cathode</td>\n",
    "        <td>$$molcm^{-3}$$</td>\n",
    "        <td>$$System$$</td>\n",
    "    </tr> \n",
    "     <tr>\n",
    "        <td>$$C_{H_2}$$</td>\n",
    "        <td style=\"text-align:center;\">Concentration of hydrogen in the catalytic interface of the anode</td>\n",
    "        <td>$$molcm^{-3}$$</td>\n",
    "        <td>$$System$$</td>\n",
    "    </tr> \n",
    "    <tr>\n",
    "        <td>$$R_{Proton}$$</td>\n",
    "        <td style=\"text-align:center;\">Resistance to proton flow</td>\n",
    "        <td>$$\\Omega$$</td>\n",
    "        <td>$$System$$</td>\n",
    "    </tr> \n",
    "    \n",
    "     <tr>\n",
    "        <td>$$\\xi_2$$</td>\n",
    "        <td style=\"text-align:center;\">Parametric coefficients for cell model</td>\n",
    "        <td>$$--$$</td>\n",
    "        <td>$$System$$</td>\n",
    "    </tr> \n",
    "     <tr>\n",
    "        <td>$$\\xi_1$$</td>\n",
    "        <td style=\"text-align:center;\">Parametric coefficients for cell model</td>\n",
    "        <td>$$--$$</td>\n",
    "        <td>$$-0.948$$</td>\n",
    "    </tr> \n",
    "     <tr>\n",
    "        <td>$$\\xi_3$$</td>\n",
    "        <td style=\"text-align:center;\">Parametric coefficients for cell model</td>\n",
    "        <td>$$--$$</td>\n",
    "        <td>$$7.6\\times10^{-5}$$</td>\n",
    "    </tr> \n",
    "     <tr>\n",
    "        <td>$$\\xi_4$$</td>\n",
    "        <td style=\"text-align:center;\">Parametric coefficients for cell model</td>\n",
    "        <td>$$--$$</td>\n",
    "        <td>$$-1.93\\times10^{-4}$$</td>\n",
    "    </tr> \n",
    "          <tr>\n",
    "        <td>$$\\mu_F$$</td>\n",
    "        <td style=\"text-align:center;\">The fuel utilization</td>\n",
    "        <td>$$--$$</td>\n",
    "        <td>$$0.95$$</td>\n",
    "    </tr>\n",
    "          <tr>\n",
    "    <td>$$HHV$$</td>\n",
    "        <td style=\"text-align:center;\">Higher Heating Value Potential</td>\n",
    "        <td>$$V$$</td>\n",
    "        <td>$$1.482$$</td>\n",
    "    </tr>\n",
    "     \n",
    "    \n",
    "    \n",
    "    \n",
    "</table>"
   ]
  },
  {
   "cell_type": "markdown",
   "metadata": {},
   "source": [
    "## Reference\n",
    "<blockquote>\n",
    "1-J. C. Amphlett, R. M. Baumert, R. F. Mann, B. A. Peppley, and P. R. Roberge. 1995. \"Performance Modeling of the Ballard Mark IV Solid Polymer Electrolyte Fuel Cell.\" J. Electrochem. Soc. (The Electrochemical Society, Inc.) 142 (1): 9-15. doi: 10.1149/1.2043959.\n",
    "</blockquote>\n",
    "<blockquote>\n",
    "2-Jeferson M. Correa, Felix A. Farret, Vladimir A. Popov, Marcelo G. Simoes. 2005. \"Sensitivity Analysis of the Modeling Parameters Used in Simulation of Proton Exchange Membrane Fuel Cells.\" IEEE Transactions on Energy Conversion (IEEE) 20 (1): 211-218. doi:10.1109/TEC.2004.842382.\n",
    "</blockquote>"
   ]
  }
 ],
 "metadata": {
  "kernelspec": {
   "display_name": "Python 3",
   "language": "python",
   "name": "python3"
  },
  "language_info": {
   "codemirror_mode": {
    "name": "ipython",
    "version": 3
   },
   "file_extension": ".py",
   "mimetype": "text/x-python",
   "name": "python",
   "nbconvert_exporter": "python",
   "pygments_lexer": "ipython3",
   "version": "3.5.2"
  }
 },
 "nbformat": 4,
 "nbformat_minor": 2
}
